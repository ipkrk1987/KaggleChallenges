{
  "nbformat": 4,
  "nbformat_minor": 0,
  "metadata": {
    "kernelspec": {
      "display_name": "Python 3",
      "language": "python",
      "name": "python3"
    },
    "language_info": {
      "codemirror_mode": {
        "name": "ipython",
        "version": 3
      },
      "file_extension": ".py",
      "mimetype": "text/x-python",
      "name": "python",
      "nbconvert_exporter": "python",
      "pygments_lexer": "ipython3",
      "version": "3.7.6"
    },
    "colab": {
      "name": "WIDS_Datathon.ipynb",
      "provenance": [],
      "collapsed_sections": [],
      "toc_visible": true
    }
  },
  "cells": [
    {
      "cell_type": "markdown",
      "metadata": {
        "id": "2Y1UVKHdT_X4"
      },
      "source": [
        "**Import Libraries**"
      ]
    },
    {
      "cell_type": "code",
      "metadata": {
        "id": "PeqY1Eo1b2ad"
      },
      "source": [
        "from sklearn.model_selection import train_test_split\n",
        "import xgboost as xgb\n",
        "from sklearn.metrics import accuracy_score,f1_score,confusion_matrix,classification_report,roc_curve,auc\n",
        "from sklearn.model_selection import GridSearchCV \n",
        "from sklearn.svm import SVC\n",
        "from sklearn.pipeline import Pipeline\n",
        "#! pip install bayesian-optimization\n",
        "from bayes_opt import BayesianOptimization\n",
        "\n",
        "\n",
        "from lightgbm import LGBMClassifier\n",
        "import lightgbm as lgb"
      ],
      "execution_count": null,
      "outputs": []
    },
    {
      "cell_type": "code",
      "metadata": {
        "id": "_lUEKeUhb2ZG"
      },
      "source": [
        "import seaborn as sns\n",
        "import pandas as pd\n",
        "import numpy as np\n",
        "from sklearn.feature_selection import SelectKBest\n",
        "from sklearn.feature_selection import chi2\n",
        "from sklearn.impute import SimpleImputer,KNNImputer\n",
        "from sklearn.preprocessing import MinMaxScaler\n",
        "from sklearn.preprocessing import OrdinalEncoder\n",
        "from sklearn.tree import DecisionTreeClassifier\n",
        "from sklearn.ensemble import ExtraTreesClassifier,GradientBoostingClassifier\n",
        "import matplotlib.pyplot as plt\n",
        "\n",
        "\n",
        "from scipy.stats import randint as sp_randint\n",
        "from scipy.stats import uniform as sp_uniform\n",
        "from sklearn.model_selection import RandomizedSearchCV, GridSearchCV"
      ],
      "execution_count": null,
      "outputs": []
    },
    {
      "cell_type": "markdown",
      "metadata": {
        "id": "UyHpDCbqUFyV"
      },
      "source": [
        "**Constants**"
      ]
    },
    {
      "cell_type": "code",
      "metadata": {
        "id": "HVdx5IVTb2ZN"
      },
      "source": [
        "#/DataDictionaryWiDS2021.csv\n",
        "trainingFileName = r\"/TrainingWiDS2021.csv\"\n",
        "dataDictionaryFileName = r\"/DataDictionaryWiDS2021.csv\"\n",
        "submissionFile = r\"/UnlabeledWiDS2021.csv\"\n"
      ],
      "execution_count": null,
      "outputs": []
    },
    {
      "cell_type": "markdown",
      "metadata": {
        "id": "4WNjGdgKUJfk"
      },
      "source": [
        "**Helper Methods**"
      ]
    },
    {
      "cell_type": "code",
      "metadata": {
        "id": "lm1iNpYIb2Zg"
      },
      "source": [
        "def printDetails(df,columnsList):\n",
        "    catDesc  = df[df['Variable Name'].isin(columnsList)]\n",
        "    print(catDesc)\n",
        "\n",
        "def nullpercent(df):\n",
        "    print(df.isna().sum()/(len(df)))\n",
        "\n"
      ],
      "execution_count": null,
      "outputs": []
    },
    {
      "cell_type": "code",
      "metadata": {
        "id": "0CyEnPpowxBK"
      },
      "source": [
        "# make general plots to examine each feature\r\n",
        "def plot_var(train,col_name, full_name, continuous):\r\n",
        "    \"\"\"\r\n",
        "    Visualize a variable with/without faceting on the Diabetes status.\r\n",
        "    - col_name is the variable name in the dataframe\r\n",
        "    - full_name is the full variable name\r\n",
        "    - continuous is True for continuous variables\r\n",
        "    \"\"\"\r\n",
        "    fig, (ax1, ax2) = plt.subplots(1, 2, sharex=False, figsize=(15,3))\r\n",
        "    # plot1: counts distribution of the variable\r\n",
        "    \r\n",
        "    if continuous:  \r\n",
        "        sns.distplot(train.loc[train[col_name].notnull(), col_name], kde=True, ax=ax1)\r\n",
        "    else:\r\n",
        "        sns.countplot(train[col_name], order=sorted(train[col_name].unique()), color='#5975A4', saturation=1, ax=ax1)\r\n",
        "    ax1.set_xlabel(full_name)\r\n",
        "    ax1.set_ylabel('Count')\r\n",
        "    ax1.set_title(full_name)\r\n",
        "\r\n",
        "          \r\n",
        "    # plot2: bar plot of the variable grouped by Diabetes or not\r\n",
        "    if continuous:\r\n",
        "        sns.boxplot(x=col_name, y='diabetes_mellitus', data=train, ax=ax2)\r\n",
        "        ax2.set_ylabel('')\r\n",
        "        ax2.set_title(full_name + ' by Diabetes Status')\r\n",
        "    else:\r\n",
        "        Diabetes_rates = train.groupby(col_name)['diabetes_mellitus'].value_counts(normalize=True)[:,1]\r\n",
        "        sns.barplot(x=Diabetes_rates.index, y=Diabetes_rates.values, color='#5975A4', saturation=1, ax=ax2)\r\n",
        "        ax2.set_ylabel('Fraction Diabetes')\r\n",
        "        ax2.set_title('Diabetes Rate by ' + full_name)\r\n",
        "        ax2.set_xlabel(full_name)\r\n",
        "    \r\n",
        "   # plot3: kde plot of the variable gropued by Diabetes_status\r\n",
        "    if continuous:\r\n",
        "        facet = sns.FacetGrid(train, hue = 'diabetes_mellitus', size=3, aspect=4)\r\n",
        "        facet.map(sns.kdeplot, col_name, shade=True)\r\n",
        "        facet.set(xlim=(train[col_name].min(), train[col_name].max()))\r\n",
        "        facet.add_legend()  \r\n",
        "    else:\r\n",
        "        fig = plt.figure(figsize=(12,3))\r\n",
        "        sns.countplot(x=col_name, hue='diabetes_mellitus', data=train, order=sorted(train[col_name].unique()) )\r\n",
        "     \r\n",
        "    plt.tight_layout()"
      ],
      "execution_count": null,
      "outputs": []
    },
    {
      "cell_type": "code",
      "metadata": {
        "id": "Jk08gdykb2Zj"
      },
      "source": [
        "def initialAnalysis(source):   \n",
        "    numeric = source.select_dtypes(include=np.number).columns\n",
        "    categorical = source.select_dtypes(include=[np.object,'category']).columns \n",
        "    \n",
        "    datetime = source.select_dtypes(include=np.datetime64).columns\n",
        "    bool_cols = [col for col in source \n",
        "             if np.isin(df[col].dropna().unique(), [0, 1]).all()]\n",
        "    \n",
        "    numeric = numeric.difference(bool_cols)\n",
        "    return categorical,numeric,datetime,bool_cols\n",
        "    \n"
      ],
      "execution_count": null,
      "outputs": []
    },
    {
      "cell_type": "code",
      "metadata": {
        "id": "D6tewVwTb2aS"
      },
      "source": [
        "def dropHighlyCorrelatedColumns(source,indices):\n",
        "    cor_matrix =source[indices].corr().abs()\n",
        "    upper_tri = cor_matrix.where(np.triu(np.ones(cor_matrix.shape),k=1).astype(np.bool))\n",
        "    to_drop = [column for column in upper_tri.columns if any(upper_tri[column] > 0.95)]\n",
        "    source = source.drop(columns= df[to_drop].columns, axis=1)\n",
        "    return source"
      ],
      "execution_count": null,
      "outputs": []
    },
    {
      "cell_type": "code",
      "metadata": {
        "id": "eGgFd9e7u24y"
      },
      "source": [
        "def ImputeData(df1):\r\n",
        "  imp_mean = SimpleImputer(missing_values=np.nan, strategy='most_frequent')\r\n",
        "  #imp_mean = RobustScaler()\r\n",
        "  X = imp_mean.fit_transform(df1[numeric])\r\n",
        "  df1[numeric] = X\r\n",
        "  \r\n",
        "\r\n",
        "  rs = RobustScaler()\r\n",
        "  X = imp_mean.fit_transform(df1[numeric])\r\n",
        "  df1[numeric] = X\r\n",
        "  \r\n",
        "  imp_mean = SimpleImputer(missing_values=np.nan, strategy='most_frequent')\r\n",
        "  X = imp_mean.fit_transform(df1[categorical])\r\n",
        "  df1[categorical] = X\r\n",
        "  return df1\r\n",
        "\r\n",
        "#most_frequent"
      ],
      "execution_count": null,
      "outputs": []
    },
    {
      "cell_type": "code",
      "metadata": {
        "id": "w8py_muyb2ah"
      },
      "source": [
        "def FitAndScore(X_test,X_train,Y_test,Y_train,grid):\n",
        "    grid.fit(X_train, y_train)  \n",
        "    y_pred_test =  grid.predict(X_test)\n",
        "    y_prob_xgb = grid.predict_proba(X_test)[:,1]\n",
        "    fpr, tpr, thresholds = roc_curve(y_test,y_prob_xgb)\n",
        "    roc_auc = auc(fpr, tpr)\n",
        "    return roc_auc,grid"
      ],
      "execution_count": null,
      "outputs": []
    },
    {
      "cell_type": "code",
      "metadata": {
        "id": "b2qxw0Vsb2aE"
      },
      "source": [
        "def getDummiesAndDropColumn(df,columnname):\n",
        "    # Get one hot encoding of columns B\n",
        "    one_hot = pd.get_dummies(df[columnname])\n",
        "    # Drop column B as it is now encoded\n",
        "    df = df.drop(columnname,axis = 1)\n",
        "    # Join the encoded df\n",
        "    df = df.join(one_hot)\n",
        "    return df"
      ],
      "execution_count": null,
      "outputs": []
    },
    {
      "cell_type": "code",
      "metadata": {
        "id": "PkTtGH-Fb2aF"
      },
      "source": [
        "# prepare input data\n",
        "def prepare_inputs(X):\n",
        "    oe = OrdinalEncoder()\n",
        "    X_ret = oe.fit_transform(X)    \n",
        "    return X_ret"
      ],
      "execution_count": null,
      "outputs": []
    },
    {
      "cell_type": "code",
      "metadata": {
        "id": "eoRWJaHDzg4N"
      },
      "source": [
        "def generateBinsAndLabels(name,number):\r\n",
        "  bins = []\r\n",
        "  labels =[]\r\n",
        "  for i in range(number):\r\n",
        "    bins.append(i/number)\r\n",
        "    labels.append('name_'+str(i))\r\n",
        "\r\n",
        "  return bin , labels\r\n",
        "  "
      ],
      "execution_count": null,
      "outputs": []
    },
    {
      "cell_type": "code",
      "metadata": {
        "id": "ZqM4dV6fGIfJ"
      },
      "source": [
        "def GenerateSubmission(classifier,df_submission):\r\n",
        "  #test = pd.read_csv(submissionFile)\r\n",
        "  y_pred_xgb = xgGrid.predict(df_submission)\r\n",
        "  y_prob_xgb = xgGrid.predict_proba(df_submission)[:,1]\r\n",
        "\r\n",
        "  df_submission['diabetes_mellitus']=y_prob_xgb\r\n",
        "\r\n",
        "  df_submission=df_submission.reset_index()\r\n",
        "#df_submission.head()\r\n",
        "\r\n",
        "\r\n",
        "  test_id = sub_encounter_id\r\n",
        "  test_preds = df_submission.diabetes_mellitus.values\r\n",
        "  submission = pd.DataFrame.from_dict({\r\n",
        "      'encounter_id':test_id.astype(int),\r\n",
        "      'diabetes_mellitus':test_preds,\r\n",
        "  })\r\n",
        "\r\n",
        "submission.to_csv(r'/submission.csv', index=False)"
      ],
      "execution_count": null,
      "outputs": []
    },
    {
      "cell_type": "code",
      "metadata": {
        "id": "3t8Yao2Gb2aZ"
      },
      "source": [
        "def getDummiesAndDropColumn(df,columnname):\n",
        "    # Get one hot encoding of columns u\n",
        "    one_hot = pd.get_dummies(df[columnname])\n",
        "    one_hot.columns = columnname+\"_\"+one_hot.columns\n",
        "    # Drop column B as it is now encoded\n",
        "    df = df.drop(columnname,axis = 1)\n",
        "    # Join the encoded df\n",
        "    df = df.join(one_hot)\n",
        "    return df"
      ],
      "execution_count": null,
      "outputs": []
    },
    {
      "cell_type": "markdown",
      "metadata": {
        "id": "_QSV-xm7j0ia"
      },
      "source": [
        "**EDA starts from here**"
      ]
    },
    {
      "cell_type": "code",
      "metadata": {
        "id": "VPOFw1ZBUoL7"
      },
      "source": [
        "description = pd.read_csv(dataDictionaryFileName)"
      ],
      "execution_count": null,
      "outputs": []
    },
    {
      "cell_type": "code",
      "metadata": {
        "colab": {
          "base_uri": "https://localhost:8080/"
        },
        "id": "CyL7fW4fb2Zn",
        "outputId": "a50fc760-c9cf-4394-f0f4-4b79e7bb3fd2"
      },
      "source": [
        "df = pd.read_csv(trainingFileName,low_memory=False)\n",
        "df.shape"
      ],
      "execution_count": null,
      "outputs": [
        {
          "output_type": "execute_result",
          "data": {
            "text/plain": [
              "(130157, 181)"
            ]
          },
          "metadata": {
            "tags": []
          },
          "execution_count": 57
        }
      ]
    },
    {
      "cell_type": "code",
      "metadata": {
        "id": "Q_7JsToOb2Zl"
      },
      "source": [
        "\n",
        "df_submission = pd.read_csv(submissionFile)\n",
        "df_submission.shape\n"
      ],
      "execution_count": null,
      "outputs": []
    },
    {
      "cell_type": "code",
      "metadata": {
        "id": "u_KqlNqDOs8s"
      },
      "source": [
        "df_backup = df.copy()"
      ],
      "execution_count": null,
      "outputs": []
    },
    {
      "cell_type": "code",
      "metadata": {
        "colab": {
          "base_uri": "https://localhost:8080/",
          "height": 535
        },
        "id": "sYsk7hOYzFD1",
        "outputId": "e9b35f13-04db-407c-e4d8-32cc6cf6cd51"
      },
      "source": [
        "#plot_var(df,'d1_glucose_max','max',True)"
      ],
      "execution_count": null,
      "outputs": [
        {
          "output_type": "stream",
          "text": [
            "/usr/local/lib/python3.7/dist-packages/seaborn/distributions.py:2557: FutureWarning: `distplot` is a deprecated function and will be removed in a future version. Please adapt your code to use either `displot` (a figure-level function with similar flexibility) or `histplot` (an axes-level function for histograms).\n",
            "  warnings.warn(msg, FutureWarning)\n",
            "/usr/local/lib/python3.7/dist-packages/seaborn/axisgrid.py:316: UserWarning: The `size` parameter has been renamed to `height`; please update your code.\n",
            "  warnings.warn(msg, UserWarning)\n"
          ],
          "name": "stderr"
        },
        {
          "output_type": "display_data",
          "data": {
            "image/png": "[encoded data removed]",
            "text/plain": [
              "<Figure size 1080x216 with 2 Axes>"
            ]
          },
          "metadata": {
            "tags": [],
            "needs_background": "light"
          }
        },
        {
          "output_type": "display_data",
          "data": {
            "image/png": "[encoded data removed]",
            "text/plain": [
              "<Figure size 959.875x216 with 1 Axes>"
            ]
          },
          "metadata": {
            "tags": [],
            "needs_background": "light"
          }
        }
      ]
    },
    {
      "cell_type": "code",
      "metadata": {
        "id": "oTmKRkmvLJZ9"
      },
      "source": [
        "#bins,labels_names  = generateBinsAndLabels('glucose',10)\r\n",
        "#df['age'] = pd.qcut(df['age'],q=[bins],labels=labels_names)\r\n",
        "#df.drop(['age'],axis=1)\r\n",
        "#df.head()"
      ],
      "execution_count": null,
      "outputs": []
    },
    {
      "cell_type": "markdown",
      "metadata": {
        "id": "GGWaoemrb2Zw"
      },
      "source": [
        "### Get columns and categories . Might be helpful later"
      ]
    },
    {
      "cell_type": "code",
      "metadata": {
        "id": "CagOsyUwM0O9"
      },
      "source": [
        "categorical,numeric,datetime,bool_cols=initialAnalysis(df)\r\n"
      ],
      "execution_count": null,
      "outputs": []
    },
    {
      "cell_type": "markdown",
      "metadata": {
        "id": "aCy8h5DEb2Z0"
      },
      "source": [
        "## Check for Sparse or null numeric and categorical columns \n",
        "### Drop columns with more than 60% null "
      ]
    },
    {
      "cell_type": "code",
      "metadata": {
        "id": "1ETDUXnUb2Z5"
      },
      "source": [
        "df2  = df[numeric].replace([0,' ','NULL'],np.nan)\n",
        "df2 =  df2.dropna(thresh=df.shape[0]*0.8,how='all',axis=1)\n",
        "\n",
        "tobeDropped  = df[numeric].columns.difference(df2.columns)\n",
        "df = df.drop(tobeDropped,axis=1)\n",
        "df_submission.drop(tobeDropped,axis=1,inplace=True)"
      ],
      "execution_count": null,
      "outputs": []
    },
    {
      "cell_type": "markdown",
      "metadata": {
        "id": "qU1OyQKDNy5T"
      },
      "source": [
        "**Categorical columns**"
      ]
    },
    {
      "cell_type": "code",
      "metadata": {
        "id": "Uez1TWZNb2Z7"
      },
      "source": [
        "df2  = df[categorical].replace([0,' ','NULL'],np.nan)\n",
        "df2 =  df2.dropna(thresh=df.shape[0]*0.8,how='all',axis=1)\n",
        "tobeDropped = df[categorical].columns.difference(df2.columns)\n",
        "df = df.drop(tobeDropped,axis=1)\n",
        "df_submission.drop(tobeDropped,axis=1,inplace=True)"
      ],
      "execution_count": null,
      "outputs": []
    },
    {
      "cell_type": "code",
      "metadata": {
        "colab": {
          "base_uri": "https://localhost:8080/"
        },
        "id": "KMBGIbgyb2Z9",
        "outputId": "c20c67f3-7302-4b2d-ffbe-82018ed12897"
      },
      "source": [
        "df.shape ,df_submission.shape"
      ],
      "execution_count": null,
      "outputs": [
        {
          "output_type": "execute_result",
          "data": {
            "text/plain": [
              "((130157, 102), (10234, 101))"
            ]
          },
          "metadata": {
            "tags": []
          },
          "execution_count": 323
        }
      ]
    },
    {
      "cell_type": "code",
      "metadata": {
        "id": "SPBF27efb2Z-"
      },
      "source": [
        "## Get various categories of columns\n",
        "categorical,numeric,datetime,bool_cols = initialAnalysis(df)"
      ],
      "execution_count": null,
      "outputs": []
    },
    {
      "cell_type": "markdown",
      "metadata": {
        "id": "irb5-oH6b2aK"
      },
      "source": [
        "### Replace Nulls "
      ]
    },
    {
      "cell_type": "code",
      "metadata": {
        "id": "KgB1WVU-eSTj"
      },
      "source": [
        "df = ImputeData(df)\r\n",
        "df_submission = ImputeData(df_submission)"
      ],
      "execution_count": null,
      "outputs": []
    },
    {
      "cell_type": "markdown",
      "metadata": {
        "id": "ZQdDRVUp0l2f"
      },
      "source": [
        "Remove Outliers"
      ]
    },
    {
      "cell_type": "code",
      "metadata": {
        "id": "v52fJU0PxGfe"
      },
      "source": [
        "#df= df[df[numeric].apply(lambda x: np.abs(x - x.mean()) / x.std() < 3).all(axis=1)]"
      ],
      "execution_count": null,
      "outputs": []
    },
    {
      "cell_type": "code",
      "metadata": {
        "id": "iH7cweipav8y"
      },
      "source": [
        "target = df.columns[-1]\r\n",
        "#target"
      ],
      "execution_count": null,
      "outputs": []
    },
    {
      "cell_type": "code",
      "metadata": {
        "id": "qLcGlQekOtW_"
      },
      "source": [
        "fill_mode = lambda col: col.fillna(col.mode()[0])\r\n",
        "df[bool_cols] = df[bool_cols].apply(fill_mode, axis=0)\r\n",
        "df_submission[bool_cols[:-1]] = df_submission[bool_cols[:-1]].apply(fill_mode, axis=0)\r\n",
        "\r\n",
        "#df_submission[bool_cols[:-1]] = df_submission[bool_cols[:-1]].fillna(df_submission[bool_cols[:-1]].mode())"
      ],
      "execution_count": null,
      "outputs": []
    },
    {
      "cell_type": "code",
      "metadata": {
        "id": "-b3MbsUPPwDv"
      },
      "source": [
        "df[target] = df[target].fillna(df[target].mode()[0])"
      ],
      "execution_count": null,
      "outputs": []
    },
    {
      "cell_type": "markdown",
      "metadata": {
        "id": "nn1uEC79b2aQ"
      },
      "source": [
        "### Remove unnamed column and pop out encounterID , targetVariable"
      ]
    },
    {
      "cell_type": "code",
      "metadata": {
        "id": "ZWBUVQWjb2aQ"
      },
      "source": [
        "df = df.drop(df.columns[0],axis=1)\n",
        "Y = df.pop(target)\n",
        "encounter_id = df.pop(df.columns[0])\n",
        "df_submission.drop(df_submission.columns[0],axis=1,inplace=True)"
      ],
      "execution_count": null,
      "outputs": []
    },
    {
      "cell_type": "code",
      "metadata": {
        "id": "KVDXno9IP_Zq"
      },
      "source": [
        "categorical,numeric,datetime,bool_cols = initialAnalysis(df)"
      ],
      "execution_count": null,
      "outputs": []
    },
    {
      "cell_type": "code",
      "metadata": {
        "id": "34PdAQgpb2aY"
      },
      "source": [
        "scaler = MinMaxScaler()\n",
        "df[numeric] = scaler.fit_transform(df[numeric])\n",
        "df_submission[numeric] = scaler.fit_transform(df_submission[numeric])\n",
        "sub_encounter_id = df_submission.pop('encounter_id')\n",
        "categorical,numeric,datetime,bool_cols = initialAnalysis(df)"
      ],
      "execution_count": null,
      "outputs": []
    },
    {
      "cell_type": "markdown",
      "metadata": {
        "id": "2HErdWKwz4Jl"
      },
      "source": [
        "**GET MOST IMPORTANT NUMERIC FEATURES**"
      ]
    },
    {
      "cell_type": "code",
      "metadata": {
        "colab": {
          "base_uri": "https://localhost:8080/",
          "height": 268
        },
        "id": "AY7ek1CZ0K-H",
        "outputId": "f4386423-661f-4326-aeed-d93f5c985a6d"
      },
      "source": [
        "dt= DecisionTreeClassifier()\r\n",
        "dt.fit(df[numeric],Y)\r\n",
        "feat_importances2 = pd.Series(dt.feature_importances_, index=df[numeric].columns)\r\n",
        "feat_importances2.sort_values(ascending=True).plot(kind='barh')\r\n",
        "plt.show()"
      ],
      "execution_count": null,
      "outputs": [
        {
          "output_type": "display_data",
          "data": {
            "image/png": "[encoded data removed]",
            "text/plain": [
              "<Figure size 432x288 with 1 Axes>"
            ]
          },
          "metadata": {
            "tags": [],
            "needs_background": "light"
          }
        }
      ]
    },
    {
      "cell_type": "code",
      "metadata": {
        "colab": {
          "base_uri": "https://localhost:8080/",
          "height": 282
        },
        "id": "bNLEDaMpr2KY",
        "outputId": "416fd9b2-8fc8-439f-c6a3-a2315f79f784"
      },
      "source": [
        "size = feat_importances2.shape[0]\r\n",
        "sns.lineplot(y=feat_importances2.sort_values(ascending=False)/2,x=range(size))"
      ],
      "execution_count": null,
      "outputs": [
        {
          "output_type": "execute_result",
          "data": {
            "text/plain": [
              "<matplotlib.axes._subplots.AxesSubplot at 0x7fd8158dd690>"
            ]
          },
          "metadata": {
            "tags": []
          },
          "execution_count": 337
        },
        {
          "output_type": "display_data",
          "data": {
            "image/png": "[encoded data removed]",
            "text/plain": [
              "<Figure size 432x288 with 1 Axes>"
            ]
          },
          "metadata": {
            "tags": [],
            "needs_background": "light"
          }
        }
      ]
    },
    {
      "cell_type": "code",
      "metadata": {
        "id": "bdWXwrIG3LJv"
      },
      "source": [
        "## Get top two numerical columns\r\n",
        "##numericals = feat_importances2.sort_values(ascending=False).head(60).index\r\n",
        "## drop everything else.\r\n",
        "##tobeDropped = numeric.difference(numericals)\r\n",
        "tobeDropped = feat_importances2[feat_importances2 <=0.005].index\r\n",
        "df.drop(tobeDropped,axis=1,inplace=True)\r\n",
        "df_submission.drop(tobeDropped,axis=1,inplace=True)\r\n",
        "\r\n"
      ],
      "execution_count": null,
      "outputs": []
    },
    {
      "cell_type": "markdown",
      "metadata": {
        "id": "E9syGsCGVJRD"
      },
      "source": [
        "**Get most important Categorical features**"
      ]
    },
    {
      "cell_type": "code",
      "metadata": {
        "id": "RjlV82ocb2ac"
      },
      "source": [
        "for cat in categorical:\n",
        "    df = getDummiesAndDropColumn(df,cat)\n",
        "    df_submission =getDummiesAndDropColumn(df_submission,cat)"
      ],
      "execution_count": null,
      "outputs": []
    },
    {
      "cell_type": "code",
      "metadata": {
        "colab": {
          "base_uri": "https://localhost:8080/"
        },
        "id": "Rljd8g77qSXu",
        "outputId": "03d7dda5-dbcb-4996-97d7-0c520955a5a3"
      },
      "source": [
        "others = df.columns.difference(numeric)\r\n",
        "#others\r\n",
        "df[others].fillna(df[others].mode().iloc[0],inplace= True)\r\n",
        "\r\n"
      ],
      "execution_count": null,
      "outputs": [
        {
          "output_type": "stream",
          "text": [
            "/usr/local/lib/python3.7/dist-packages/pandas/core/series.py:4536: SettingWithCopyWarning: \n",
            "A value is trying to be set on a copy of a slice from a DataFrame\n",
            "\n",
            "See the caveats in the documentation: https://pandas.pydata.org/pandas-docs/stable/user_guide/indexing.html#returning-a-view-versus-a-copy\n",
            "  downcast=downcast,\n"
          ],
          "name": "stderr"
        }
      ]
    },
    {
      "cell_type": "code",
      "metadata": {
        "colab": {
          "base_uri": "https://localhost:8080/"
        },
        "id": "Lq94T7P0bMYi",
        "outputId": "ead1ec7a-9d08-46ee-fff0-0fed39df03e4"
      },
      "source": [
        "others = df_submission.columns.intersection(others)\r\n",
        "df_submission[others].fillna(df_submission[others].mode().iloc[0],inplace= True)"
      ],
      "execution_count": null,
      "outputs": [
        {
          "output_type": "stream",
          "text": [
            "/usr/local/lib/python3.7/dist-packages/pandas/core/series.py:4536: SettingWithCopyWarning: \n",
            "A value is trying to be set on a copy of a slice from a DataFrame\n",
            "\n",
            "See the caveats in the documentation: https://pandas.pydata.org/pandas-docs/stable/user_guide/indexing.html#returning-a-view-versus-a-copy\n",
            "  downcast=downcast,\n"
          ],
          "name": "stderr"
        }
      ]
    },
    {
      "cell_type": "code",
      "metadata": {
        "id": "cM5RdD9Krpul"
      },
      "source": [
        "df = df.dropna();\r\n",
        "Y = Y[df.index]"
      ],
      "execution_count": null,
      "outputs": []
    },
    {
      "cell_type": "code",
      "metadata": {
        "colab": {
          "base_uri": "https://localhost:8080/",
          "height": 266
        },
        "id": "M2DE0aEcejdx",
        "outputId": "8b77dfb3-a525-4d1b-a85c-f69470579459"
      },
      "source": [
        "df2 = df[others]\r\n",
        "\r\n",
        "dt.fit(df2,Y)\r\n",
        "feat_importances2 = pd.Series(dt.feature_importances_, index=df2.columns)\r\n",
        "feat_importances2.sort_values(ascending=True).plot(kind='barh')\r\n",
        "plt.show()"
      ],
      "execution_count": null,
      "outputs": [
        {
          "output_type": "display_data",
          "data": {
            "image/png": "[encoded data removed]",
            "text/plain": [
              "<Figure size 432x288 with 1 Axes>"
            ]
          },
          "metadata": {
            "tags": [],
            "needs_background": "light"
          }
        }
      ]
    },
    {
      "cell_type": "code",
      "metadata": {
        "id": "UfQi_kdQTVrN"
      },
      "source": [
        "#feat_importances2.sort_values(ascending=True).index"
      ],
      "execution_count": null,
      "outputs": []
    },
    {
      "cell_type": "code",
      "metadata": {
        "colab": {
          "base_uri": "https://localhost:8080/",
          "height": 282
        },
        "id": "mi5wRF_6QKeA",
        "outputId": "c9e59c3b-232c-47e8-94a5-a7189ce8aa2e"
      },
      "source": [
        "len = feat_importances2.shape[0]\r\n",
        "sns.lineplot(y=feat_importances2.sort_values(ascending=False),x=range(len))"
      ],
      "execution_count": null,
      "outputs": [
        {
          "output_type": "execute_result",
          "data": {
            "text/plain": [
              "<matplotlib.axes._subplots.AxesSubplot at 0x7fd815cb9c90>"
            ]
          },
          "metadata": {
            "tags": []
          },
          "execution_count": 347
        },
        {
          "output_type": "display_data",
          "data": {
            "image/png": "[encoded data removed]",
            "text/plain": [
              "<Figure size 432x288 with 1 Axes>"
            ]
          },
          "metadata": {
            "tags": [],
            "needs_background": "light"
          }
        }
      ]
    },
    {
      "cell_type": "code",
      "metadata": {
        "id": "k-Bh6ONbV6gI"
      },
      "source": [
        "tobeDropped = feat_importances2[feat_importances2 <=0.005].index"
      ],
      "execution_count": null,
      "outputs": []
    },
    {
      "cell_type": "code",
      "metadata": {
        "id": "nKz7wbfYsMB7"
      },
      "source": [
        "df.drop(tobeDropped,axis = 1,inplace=True)\r\n",
        "df_submission.drop(tobeDropped,axis = 1,inplace=True)"
      ],
      "execution_count": null,
      "outputs": []
    },
    {
      "cell_type": "code",
      "metadata": {
        "id": "TB1V10Crb2ac"
      },
      "source": [
        "def returnMetrics(y_test,y_test_pred):\n",
        "    acc = accuracy_score(y_test,y_test_pred)\n",
        "    cm = confusion_matrix(y_test,y_test_pred)\n",
        "    cr = classification_report(y_test,y_test_pred)\n",
        "    f1 = f1_score(y_test,y_test_pred)\n",
        "    return acc,cm,cr,f1"
      ],
      "execution_count": null,
      "outputs": []
    },
    {
      "cell_type": "code",
      "metadata": {
        "id": "aBiF-796eWa2"
      },
      "source": [
        "## sort input data \r\n",
        "df.sort_index(axis=1, inplace=True)\r\n",
        "Y = Y[df.index]\r\n",
        "\r\n",
        "# Sort submission data as well.\r\n",
        "df_submission.sort_index(axis=1, inplace=True)"
      ],
      "execution_count": null,
      "outputs": []
    },
    {
      "cell_type": "code",
      "metadata": {
        "id": "IWj7QbOieaN0"
      },
      "source": [
        "missing = df.columns.difference(df_submission.columns)\r\n",
        "if missing.shape[0] >0:\r\n",
        "  df_submission[missing] = df[missing].mode()[0]\r\n"
      ],
      "execution_count": null,
      "outputs": []
    },
    {
      "cell_type": "markdown",
      "metadata": {
        "id": "PXXUYcsFVgR6"
      },
      "source": [
        "**Split data to test and train**"
      ]
    },
    {
      "cell_type": "code",
      "metadata": {
        "id": "wZrfALMgb2ag"
      },
      "source": [
        "indices = df.index.values\n",
        "X_train, X_test, indices_train, indices_test = train_test_split(df, indices, test_size=0.2, random_state=42)\n",
        "y_train, y_test = Y[indices_train],  Y[indices_test]\n",
        "enc_train,enc_test = encounter_id[indices_train],encounter_id[indices_test]"
      ],
      "execution_count": null,
      "outputs": []
    },
    {
      "cell_type": "code",
      "metadata": {
        "id": "mDQ-cBq4wPw1"
      },
      "source": [
        "df_submission.drop(df_submission.columns.difference(df.columns),axis=1,inplace=True)"
      ],
      "execution_count": null,
      "outputs": []
    },
    {
      "cell_type": "markdown",
      "metadata": {
        "id": "rGmTjY0UV-ds"
      },
      "source": [
        "Hyper Optimize XGBooster"
      ]
    },
    {
      "cell_type": "markdown",
      "metadata": {
        "id": "qfndzrXDxPda"
      },
      "source": [
        "Bayesian Optimization"
      ]
    },
    {
      "cell_type": "code",
      "metadata": {
        "id": "nku3PE3LcJLO"
      },
      "source": [
        "#Bayesian Optimization function for xgboost\r\n",
        "#specify the parameters you want to tune as keyword arguments\r\n",
        "def bo_tune_xgb(max_depth, gamma, n_estimators ,learning_rate):\r\n",
        "     params = {'max_depth': int(max_depth),\r\n",
        "              'gamma': gamma,\r\n",
        "              'n_estimators': int(n_estimators),\r\n",
        "              'learning_rate':learning_rate,\r\n",
        "              'subsample': 0.8,\r\n",
        "              'eta': 0.1,\r\n",
        "              'eval_metric': 'rmse'}\r\n",
        "    #Cross validating with the specified parameters in 5 folds and 70 iterations\r\n",
        "     cv_result = xgb.cv(params, dtrain, num_boost_round=70, nfold=5)\r\n",
        "    #Return the negative RMSE\r\n",
        "     return cv_result['roc_auc_score'].iloc[-1]"
      ],
      "execution_count": null,
      "outputs": []
    },
    {
      "cell_type": "code",
      "metadata": {
        "id": "swXTuqczWr7B"
      },
      "source": [
        "dtrain = xgb.DMatrix(df_train, label=y_train)"
      ],
      "execution_count": null,
      "outputs": []
    },
    {
      "cell_type": "code",
      "metadata": {
        "id": "ycR-IhjJbxE1"
      },
      "source": [
        "xgb_bo = BayesianOptimization(bo_tune_xgb, {'max_depth':(3, 10),'gamma': (0, 1), 'learning_rate':(0,1),'n_estimators':(100,200)})"
      ],
      "execution_count": null,
      "outputs": []
    },
    {
      "cell_type": "code",
      "metadata": {
        "id": "dAecjdDedrlf"
      },
      "source": [
        "xgb_bo.maximize(n_iter=5, init_points=8, acq='ei')"
      ],
      "execution_count": null,
      "outputs": []
    },
    {
      "cell_type": "code",
      "metadata": {
        "colab": {
          "base_uri": "https://localhost:8080/"
        },
        "id": "xo49GS9-f1eX",
        "outputId": "0bbc6895-8361-4fb7-d742-edf8c013970b"
      },
      "source": [
        "#Extracting the best parameters\r\n",
        "params = xgb_bo.max['params']\r\n",
        "print(params)"
      ],
      "execution_count": null,
      "outputs": [
        {
          "output_type": "stream",
          "text": [
            "{'gamma': 0.7341935597042867, 'learning_rate': 0.08615009038053989, 'max_depth': 9.66188095243959, 'n_estimators': 164.79007587847076}\n",
            "{'gamma': 0.7341935597042867, 'learning_rate': 0.08615009038053989, 'max_depth': 9.66188095243959, 'n_estimators': 164.79007587847076}\n"
          ],
          "name": "stdout"
        }
      ]
    },
    {
      "cell_type": "code",
      "metadata": {
        "id": "DyCFy3bTpeAA"
      },
      "source": [
        "#Converting the max_depth and n_estimator values from float to int\r\n",
        "params['max_depth']= int(params['max_depth'])\r\n",
        "params['n_estimators']= int(params['n_estimators'])"
      ],
      "execution_count": null,
      "outputs": []
    },
    {
      "cell_type": "code",
      "metadata": {
        "id": "S0NhKiRsph08"
      },
      "source": [
        "classifier2 = xgb.XGBClassifier(**params).fit(df_test,y_test)"
      ],
      "execution_count": null,
      "outputs": []
    },
    {
      "cell_type": "code",
      "metadata": {
        "colab": {
          "base_uri": "https://localhost:8080/"
        },
        "id": "5RbF6Q1Spzv4",
        "outputId": "1e7e4773-fefe-4a71-c1dd-cfda272a8948"
      },
      "source": [
        "roc,xgGrid =  FitAndScore(X_test,X_train,y_test,y_train,classifier2)\r\n",
        "roc"
      ],
      "execution_count": null,
      "outputs": [
        {
          "output_type": "execute_result",
          "data": {
            "text/plain": [
              "0.8638659344298218"
            ]
          },
          "metadata": {
            "tags": []
          },
          "execution_count": 154
        }
      ]
    },
    {
      "cell_type": "code",
      "metadata": {
        "id": "1B5fT9nRWfM5"
      },
      "source": [
        "GenerateSubmission(xgGrid,df_submission)"
      ],
      "execution_count": null,
      "outputs": []
    },
    {
      "cell_type": "markdown",
      "metadata": {
        "id": "tj63mSu6Wv1F"
      },
      "source": [
        "**Hyper Optimize LightGBM**"
      ]
    },
    {
      "cell_type": "code",
      "metadata": {
        "id": "XkH3zldiNHjI"
      },
      "source": [
        "param_test ={'n_estimators': sp_randint(100, 500), 'max_depth': sp_randint(7,20)}"
      ],
      "execution_count": null,
      "outputs": []
    },
    {
      "cell_type": "code",
      "metadata": {
        "id": "TwB6BILANCOA"
      },
      "source": [
        "clf = lgb.LGBMClassifier(max_depth=-1, random_state=314, silent=True, metric='None', n_jobs=-1)\r\n",
        "gs = RandomizedSearchCV(\r\n",
        "    estimator=clf, param_distributions=param_test, \r\n",
        "    n_iter=5,\r\n",
        "    scoring='roc_auc',\r\n",
        "    cv=3,\r\n",
        "    refit=True,\r\n",
        "    random_state=314,\r\n",
        "    verbose=True)"
      ],
      "execution_count": null,
      "outputs": []
    },
    {
      "cell_type": "code",
      "metadata": {
        "id": "ZeDkjfkRNwTj"
      },
      "source": [
        "gs.fit(X_train,y_train)"
      ],
      "execution_count": null,
      "outputs": []
    },
    {
      "cell_type": "code",
      "metadata": {
        "colab": {
          "base_uri": "https://localhost:8080/"
        },
        "id": "_wuZcM9_9HfA",
        "outputId": "59fa0da3-f6d2-4aee-833c-d73f2d2e9d38"
      },
      "source": [
        "roc_auc,lgbmClassifier = FitAndScore(X_test,X_train,y_test,y_train,gs.best_estimator_)\r\n",
        "roc_auc"
      ],
      "execution_count": null,
      "outputs": [
        {
          "output_type": "execute_result",
          "data": {
            "text/plain": [
              "0.8643057063624786"
            ]
          },
          "metadata": {
            "tags": []
          },
          "execution_count": 410
        }
      ]
    },
    {
      "cell_type": "code",
      "metadata": {
        "id": "mPgl_iwF-fq6"
      },
      "source": [
        "GenerateSubmission(lgbmClassifier,df_submission)"
      ],
      "execution_count": null,
      "outputs": []
    }
  ]
}